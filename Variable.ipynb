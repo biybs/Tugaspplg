{
  "nbformat": 4,
  "nbformat_minor": 0,
  "metadata": {
    "colab": {
      "provenance": [],
      "authorship_tag": "ABX9TyM+E24lb3yWjr1dNkc4ao2t",
      "include_colab_link": true
    },
    "kernelspec": {
      "name": "python3",
      "display_name": "Python 3"
    },
    "language_info": {
      "name": "python"
    }
  },
  "cells": [
    {
      "cell_type": "markdown",
      "metadata": {
        "id": "view-in-github",
        "colab_type": "text"
      },
      "source": [
        "<a href=\"https://colab.research.google.com/github/biybs/Tugaspplg/blob/main/Variable.ipynb\" target=\"_parent\"><img src=\"https://colab.research.google.com/assets/colab-badge.svg\" alt=\"Open In Colab\"/></a>"
      ]
    },
    {
      "cell_type": "markdown",
      "source": [
        "# Variable\n",
        "variable adalah sesuatu yang dapat berubah. Variabel ini digunakan untuk merujuk menuju lokasi memori oleh program komputer. Pada sebagian besar bahasa lain, Anda perlu menetapkan tipe data terhadap suatu variabel. Namun, hal itu tidak perlu dilakukan pada bahasa pemrograman python. Sebagai contoh, jika Anda menulis program dengan menggunakan bahasa C, maka sintaks yang harus anda tulis adalah int num = 39; Dengan Python Anda hanya cukup menuliskan num = 39.\n",
        "\n",
        "**Integer**\n",
        "Integer adalah angka numerik yang dapat berupa nilai positif, negatif, atau nol tanpa memiliki angka"
      ],
      "metadata": {
        "id": "VImGC2gpVimv"
      }
    },
    {
      "cell_type": "code",
      "source": [
        "a= 39\n",
        "print(a)\n",
        "39\n",
        "type(a)\n",
        ""
      ],
      "metadata": {
        "colab": {
          "base_uri": "https://localhost:8080/"
        },
        "id": "qKVJesQrWTy1",
        "outputId": "e80087da-d914-47ec-a759-2d45c2707fbe"
      },
      "execution_count": 1,
      "outputs": [
        {
          "output_type": "stream",
          "name": "stdout",
          "text": [
            "39\n"
          ]
        },
        {
          "output_type": "execute_result",
          "data": {
            "text/plain": [
              "int"
            ]
          },
          "metadata": {},
          "execution_count": 1
        }
      ]
    },
    {
      "cell_type": "markdown",
      "source": [
        "**Float** Float adalah angka numerik sama seperti integer , namun ada sedikit perbedaan, yaitu adanya angka desimal"
      ],
      "metadata": {
        "id": "Nq64xS-nWgpK"
      }
    },
    {
      "cell_type": "code",
      "source": [
        "\n",
        "b= 39.0\n",
        "print(b)\n",
        "39.0\n",
        "type(b)\n",
        ""
      ],
      "metadata": {
        "colab": {
          "base_uri": "https://localhost:8080/"
        },
        "id": "5-EGTXQdWvgx",
        "outputId": "810ca833-f72f-45a1-f4ea-ad1463d2aa5c"
      },
      "execution_count": 2,
      "outputs": [
        {
          "output_type": "stream",
          "name": "stdout",
          "text": [
            "39.0\n"
          ]
        },
        {
          "output_type": "execute_result",
          "data": {
            "text/plain": [
              "float"
            ]
          },
          "metadata": {},
          "execution_count": 2
        }
      ]
    },
    {
      "cell_type": "markdown",
      "source": [
        "**String** String adalah kumpulan beberapa karakter atau integer. String tersebut direpresentasikan dengan menggunakan tanda quotes (double ataupun single)"
      ],
      "metadata": {
        "id": "pVGfV1tVW0mp"
      }
    },
    {
      "cell_type": "code",
      "source": [
        "test = \"Habib Ganteng\"\n",
        "print(test )\n",
        "\"Habib Ganteng\"\n",
        "type(test )"
      ],
      "metadata": {
        "colab": {
          "base_uri": "https://localhost:8080/"
        },
        "id": "t4TB2PEYW8tU",
        "outputId": "4ebf4679-0791-47c0-dfb8-59863d53ab7d"
      },
      "execution_count": 3,
      "outputs": [
        {
          "output_type": "stream",
          "name": "stdout",
          "text": [
            "Habib Ganteng\n"
          ]
        },
        {
          "output_type": "execute_result",
          "data": {
            "text/plain": [
              "str"
            ]
          },
          "metadata": {},
          "execution_count": 3
        }
      ]
    },
    {
      "cell_type": "markdown",
      "source": [
        "**Boolean** Boolean adalah operator biner yang hanya memiliki dua nilai output yaitu True atau False."
      ],
      "metadata": {
        "id": "SdFLzuC1XFZN"
      }
    },
    {
      "cell_type": "code",
      "source": [
        "Maul_gembul = True\n",
        "print(Maul_gembul)\n",
        "True\n",
        "type(Maul_gembul)"
      ],
      "metadata": {
        "colab": {
          "base_uri": "https://localhost:8080/"
        },
        "id": "C-6pC6KTXOE8",
        "outputId": "51b87579-81d2-400b-965e-45980090fe9a"
      },
      "execution_count": 4,
      "outputs": [
        {
          "output_type": "stream",
          "name": "stdout",
          "text": [
            "True\n"
          ]
        },
        {
          "output_type": "execute_result",
          "data": {
            "text/plain": [
              "bool"
            ]
          },
          "metadata": {},
          "execution_count": 4
        }
      ]
    },
    {
      "cell_type": "markdown",
      "source": [
        "**NoneType** NoneType digunakan ketika variable tidak memiliki nilai, seperti pada contoh di bawah in"
      ],
      "metadata": {
        "id": "ONHQb10IXV1i"
      }
    },
    {
      "cell_type": "code",
      "source": [
        "c = None\n",
        "print(c)\n",
        "None\n",
        "type(c)"
      ],
      "metadata": {
        "colab": {
          "base_uri": "https://localhost:8080/"
        },
        "id": "PiKPAV9XXdZw",
        "outputId": "38d61306-4544-4bb7-e69c-7575e6deae2a"
      },
      "execution_count": 5,
      "outputs": [
        {
          "output_type": "stream",
          "name": "stdout",
          "text": [
            "None\n"
          ]
        },
        {
          "output_type": "execute_result",
          "data": {
            "text/plain": [
              "NoneType"
            ]
          },
          "metadata": {},
          "execution_count": 5
        }
      ]
    }
  ]
}