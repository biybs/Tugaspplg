{
  "nbformat": 4,
  "nbformat_minor": 0,
  "metadata": {
    "colab": {
      "provenance": [],
      "authorship_tag": "ABX9TyN9ACRcL+ocWRx5XYbnDSe0",
      "include_colab_link": true
    },
    "kernelspec": {
      "name": "python3",
      "display_name": "Python 3"
    },
    "language_info": {
      "name": "python"
    }
  },
  "cells": [
    {
      "cell_type": "markdown",
      "metadata": {
        "id": "view-in-github",
        "colab_type": "text"
      },
      "source": [
        "<a href=\"https://colab.research.google.com/github/biybs/Tugaspplg/blob/main/Conditional.ipynb\" target=\"_parent\"><img src=\"https://colab.research.google.com/assets/colab-badge.svg\" alt=\"Open In Colab\"/></a>"
      ]
    },
    {
      "cell_type": "markdown",
      "source": [
        "# Conditional Statement\n",
        "Conditional statement digunakan untuk memeriksa suatu kondisi yang ditentukan sebelumnya apakah nilai nya True atau False.conditional statement akan sangat berguna. if, elif dan else adalah pernyataan kondisional yang digunakan dalam bahasa pemrograman Python.\n",
        "\n",
        "**kondisi pertama** pertama adalah kondisi if untuk mengecek apakah nomor tersebut sama dengan 10."
      ],
      "metadata": {
        "id": "NN-bTKTxcY4t"
      }
    },
    {
      "cell_type": "code",
      "source": [
        "angka = 5\n",
        "if angka == 10:\n",
        "    print(\"angka adalah 10\")\n",
        "elif angka < 10:\n",
        "    print(\"angka adalah kurang dari 10\")\n",
        "else:\n",
        "    print(\"angka adalah lebih dari 10\")"
      ],
      "metadata": {
        "colab": {
          "base_uri": "https://localhost:8080/"
        },
        "id": "_CJs7ZU7cjUB",
        "outputId": "a1c583f7-98ae-4cce-efe3-61bef278df11"
      },
      "execution_count": 12,
      "outputs": [
        {
          "output_type": "stream",
          "name": "stdout",
          "text": [
            "angka adalah kurang dari 10\n"
          ]
        }
      ]
    },
    {
      "cell_type": "markdown",
      "source": [
        "**kondisi kedua** Pada kasus ini kita akan memiliki variabel boolean dan dua kondisi. Pada contoh sebelumnya ketika kita membahas mengenai boolean apakah benar atau salah? Saat ini kita akan menggunakannya kembali pada conditional statement. Jika anda_robot, lalu print \"Ya, saya robot\", selain itu print \"bukan, saya manusia\"."
      ],
      "metadata": {
        "id": "Il2Cz7Xecyrk"
      }
    },
    {
      "cell_type": "code",
      "source": [
        "maul_manusia = False\n",
        "if maul_manusia:\n",
        "    print (\"Ya, saya manusia\")\n",
        "else:\n",
        "    print (\"bukan, saya robot\")"
      ],
      "metadata": {
        "colab": {
          "base_uri": "https://localhost:8080/"
        },
        "id": "S9k5Aly8c6QU",
        "outputId": "786d802c-22fa-47c9-d95d-a208f563a80f"
      },
      "execution_count": 13,
      "outputs": [
        {
          "output_type": "stream",
          "name": "stdout",
          "text": [
            "bukan, saya robot\n"
          ]
        }
      ]
    },
    {
      "cell_type": "markdown",
      "source": [
        "**kondisi ketiga** Pada contoh ini kita akan membuat kondisi berkebalikan dari kondisi kedua dengan operator not."
      ],
      "metadata": {
        "id": "C4q1bjp-dB5N"
      }
    },
    {
      "cell_type": "code",
      "source": [
        "maul_manusia = False\n",
        "if not maul_manusia:\n",
        "    print (\"Ya, saya manusia\")\n",
        "else:\n",
        "    print (\"bukan, saya robot\")"
      ],
      "metadata": {
        "colab": {
          "base_uri": "https://localhost:8080/"
        },
        "id": "4YcvHeZ7dKMG",
        "outputId": "b6c65f59-72c4-4f7f-a431-e6e8a97dec06"
      },
      "execution_count": 14,
      "outputs": [
        {
          "output_type": "stream",
          "name": "stdout",
          "text": [
            "Ya, saya manusia\n"
          ]
        }
      ]
    },
    {
      "cell_type": "markdown",
      "source": [
        "**kondisi keempat** Disini kita akan mendeklarasikan data sebagai None, lalu memeriksanya jika data tersebut ada atau tidak."
      ],
      "metadata": {
        "id": "PSq2NzYndT6m"
      }
    },
    {
      "cell_type": "code",
      "source": [
        "data = None\n",
        "if data:\n",
        "    print (\"data bukan none\")\n",
        "else:\n",
        "    print (\"data adalah none\")"
      ],
      "metadata": {
        "colab": {
          "base_uri": "https://localhost:8080/"
        },
        "id": "NnmYEhqfdeL0",
        "outputId": "ac963127-2f16-4b75-9f15-7071d3b00297"
      },
      "execution_count": 15,
      "outputs": [
        {
          "output_type": "stream",
          "name": "stdout",
          "text": [
            "data adalah none\n"
          ]
        }
      ]
    },
    {
      "cell_type": "markdown",
      "source": [
        "**kondisi kelima** pun dapat menggunakan if dalam satu baris pada bahasa pemrograman Python. Syntax nya akan terlihat seperti pada:"
      ],
      "metadata": {
        "id": "FN_CruOTdoxd"
      }
    },
    {
      "cell_type": "code",
      "source": [
        "a = 10\n",
        "b = 5\n",
        "if a > b: print(\"a lebih besar dari b\")"
      ],
      "metadata": {
        "colab": {
          "base_uri": "https://localhost:8080/"
        },
        "id": "Dbc6nXgTdu4s",
        "outputId": "0c1d9c15-1f38-4264-e4f9-08957cf50c27"
      },
      "execution_count": 16,
      "outputs": [
        {
          "output_type": "stream",
          "name": "stdout",
          "text": [
            "a lebih besar dari b\n"
          ]
        }
      ]
    },
    {
      "cell_type": "markdown",
      "source": [
        "**Kondisi ke enam** Anda pun dapat menggunakan if else dalam satu baris, seperti pada contoh di bawah ini:"
      ],
      "metadata": {
        "id": "-2nlbU0Zd0D2"
      }
    },
    {
      "cell_type": "code",
      "source": [
        "num = 5\n",
        "print(\"Angka adalah lima \") if num == 5 else print(\"Angka bukan lima\")"
      ],
      "metadata": {
        "colab": {
          "base_uri": "https://localhost:8080/"
        },
        "id": "T9ZG5fW1d6U3",
        "outputId": "687abf9d-158a-49a4-eb75-a73d56cad6f6"
      },
      "execution_count": 19,
      "outputs": [
        {
          "output_type": "stream",
          "name": "stdout",
          "text": [
            "Angka adalah lima \n"
          ]
        }
      ]
    },
    {
      "cell_type": "markdown",
      "source": [
        "**kondisi ketujuh** Anda pun dapat menggunakan nested if-else statement, yaitu"
      ],
      "metadata": {
        "id": "cS3Qd0ZyeFMa"
      }
    },
    {
      "cell_type": "code",
      "source": [
        "num = 25\n",
        "if num > 10:\n",
        "    print(\"Angka lebih besar dari 10\")\n",
        "    if num > 20:\n",
        "        print(\"Angka lebih besar dari 20\")\n",
        "    if num > 30:\n",
        "        print(\"Angka lebih besar dari 30\")\n",
        "else:\n",
        "    print(\"Angka lebih kecil dari 10\")"
      ],
      "metadata": {
        "colab": {
          "base_uri": "https://localhost:8080/"
        },
        "id": "CbLuz8bueNIC",
        "outputId": "5aee0727-fbbb-4ab4-f12d-63c8a64f4986"
      },
      "execution_count": 20,
      "outputs": [
        {
          "output_type": "stream",
          "name": "stdout",
          "text": [
            "Angka lebih besar dari 10\n",
            "Angka lebih besar dari 20\n"
          ]
        }
      ]
    },
    {
      "cell_type": "markdown",
      "source": [
        "**Kondisi kedelapan** Anda dapat pula mengunakan operator and pada conditional statement. Operator ini menyatakan jika kondisi 1 dan 2 keduanya adalah benar."
      ],
      "metadata": {
        "id": "ZaKOXbWkelIP"
      }
    },
    {
      "cell_type": "code",
      "source": [
        "num = 10\n",
        "if num > 5 and num < 15:\n",
        "     print(num)\n",
        "else:\n",
        "     print(\"Angka bisa lebih kecil dari 5 atau lebih besar dari 15\")"
      ],
      "metadata": {
        "colab": {
          "base_uri": "https://localhost:8080/"
        },
        "id": "ZURlZHrGep1S",
        "outputId": "079f00df-d25d-4f0c-b45f-eaa512850f3e"
      },
      "execution_count": 21,
      "outputs": [
        {
          "output_type": "stream",
          "name": "stdout",
          "text": [
            "10\n"
          ]
        }
      ]
    },
    {
      "cell_type": "markdown",
      "source": [
        "**Kondisi kesembilan** Anda pun dapat menggunakan operator or dalam pernyataan bersyarat. Hal ini untuk menyatakan bahwa jika salah satu kondisi 1 atau kondisi 2 benar, sehingga program akan di eksekusi."
      ],
      "metadata": {
        "id": "rIAed9J-eyWb"
      }
    },
    {
      "cell_type": "code",
      "source": [
        "num = 10\n",
        "if num > 5 or num < 7:\n",
        "     print(num)"
      ],
      "metadata": {
        "colab": {
          "base_uri": "https://localhost:8080/"
        },
        "id": "yqfJxqBPe2fM",
        "outputId": "063d1742-cf84-4a71-a9fa-cce2215b3c98"
      },
      "execution_count": 22,
      "outputs": [
        {
          "output_type": "stream",
          "name": "stdout",
          "text": [
            "10\n"
          ]
        }
      ]
    }
  ]
}